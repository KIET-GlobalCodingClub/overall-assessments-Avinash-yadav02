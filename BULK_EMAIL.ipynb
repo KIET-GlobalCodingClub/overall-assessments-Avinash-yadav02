{
  "nbformat": 4,
  "nbformat_minor": 0,
  "metadata": {
    "colab": {
      "provenance": []
    },
    "kernelspec": {
      "name": "python3",
      "display_name": "Python 3"
    },
    "language_info": {
      "name": "python"
    }
  },
  "cells": [
    {
      "cell_type": "code",
      "execution_count": 8,
      "metadata": {
        "colab": {
          "base_uri": "https://localhost:8080/"
        },
        "id": "vFRT4Shx7Fr8",
        "outputId": "b761b85a-4707-47d5-e795-81995994dc67"
      },
      "outputs": [
        {
          "output_type": "stream",
          "name": "stdout",
          "text": [
            "Processing: avinash (kolusuavi3@gmail.com)...\n",
            "Processing: nithin (reddynithin683@gmail.com)...\n",
            "Processing: venkat (gantavenkatvenkat505@gmail.com)...\n",
            "Processing: niru (botlajainiranjan@gmail.com)...\n",
            "Processing: bali (balamanikanta29042005@gmail.com)...\n",
            "Processing: dileep (dileepkonakalla5@gmail.com)...\n",
            "Processing: arun (garikipatinagavenkataarunkumar@gmail.com)...\n",
            "Processing: shannu (shannugarlapati4@gmail.com)...\n",
            "Processing: kiran (gudisakiranbabu3@gmail.com)...\n",
            "✅ All certificates sent successfully!\n"
          ]
        }
      ],
      "source": [
        "import pandas as pd\n",
        "from PIL import Image, ImageDraw, ImageFont\n",
        "import smtplib\n",
        "from email.mime.multipart import MIMEMultipart\n",
        "from email.mime.base import MIMEBase\n",
        "from email import encoders\n",
        "from email.mime.text import MIMEText\n",
        "import os\n",
        "\n",
        "EXCEL_FILE = \"/content/assessment.xlsx\"\n",
        "TEMPLATE_FILE = \"/content/Cream Beige Aesthetic Elegant Completion Certificate.png\"\n",
        "FONT_FILE = \"/content/arial.ttf\"\n",
        "OUTPUT_FOLDER = \"certificates\"\n",
        "\n",
        "SENDER_EMAIL = \"avinashkolusu02@gmail.com\"\n",
        "SENDER_PASSWORD = \"bjjdzxbstkxklxgs\"\n",
        "SMTP_SERVER = \"smtp.gmail.com\"\n",
        "SMTP_PORT = 587\n",
        "\n",
        "EMAIL_SUBJECT = \"Certificate of Participation\"\n",
        "EMAIL_BODY = \"Dear {name},\\n\\nPlease find attached your certificate of participation.\\n\\nRegards,\\nEvent Team\"\n",
        "\n",
        "os.makedirs(OUTPUT_FOLDER, exist_ok=True)\n",
        "\n",
        "\n",
        "df = pd.read_excel(EXCEL_FILE)\n",
        "\n",
        "def generate_certificate(name, roll_no):\n",
        "    \"\"\"Generate a certificate for the student.\"\"\"\n",
        "    img = Image.open(TEMPLATE_FILE)\n",
        "    draw = ImageDraw.Draw(img)\n",
        "\n",
        "    img_width, img_height = img.size\n",
        "\n",
        "    font_name = ImageFont.truetype(FONT_FILE, 60)\n",
        "    font_details = ImageFont.truetype(FONT_FILE, 40)\n",
        "\n",
        "    # Calculate center coordinates\n",
        "    center_x = img_width // 2\n",
        "    center_y = img_height // 2\n",
        "\n",
        "    # Adjust y-coordinates for name and roll number to be around the center\n",
        "    name_y = center_y + 50 # Adjust this value based on desired spacing\n",
        "    roll_no_y = center_y + 140 # Adjust this value based on desired spacing\n",
        "\n",
        "    draw.text((center_x, name_y), name.upper(), fill=\"black\", font=font_name, anchor=\"mm\")\n",
        "    draw.text((center_x, roll_no_y), f\"Roll No: {roll_no}\", fill=\"black\", font=font_details, anchor=\"mm\")\n",
        "\n",
        "    file_path = os.path.join(OUTPUT_FOLDER, f\"{name}.pdf\")\n",
        "    img.save(file_path, \"PDF\", resolution=100.0)\n",
        "    return file_path\n",
        "\n",
        "def send_email(to_email, subject, body, attachment):\n",
        "    \"\"\"Send an email with certificate attached.\"\"\"\n",
        "    msg = MIMEMultipart()\n",
        "    msg['From'] = SENDER_EMAIL\n",
        "    msg['To'] = to_email\n",
        "    msg['Subject'] = subject\n",
        "\n",
        "    msg.attach(MIMEText(body, 'plain'))\n",
        "\n",
        "    with open(attachment, \"rb\") as f:\n",
        "        mime = MIMEBase('application', 'pdf', Name=os.path.basename(attachment))\n",
        "        mime.set_payload(f.read())\n",
        "        encoders.encode_base64(mime)\n",
        "        mime.add_header('Content-Disposition', f'attachment; filename=\"{os.path.basename(attachment)}\"')\n",
        "        msg.attach(mime)\n",
        "\n",
        "    with smtplib.SMTP(SMTP_SERVER, SMTP_PORT) as server:\n",
        "        server.starttls()\n",
        "        server.login(SENDER_EMAIL, SENDER_PASSWORD)\n",
        "        server.send_message(msg)\n",
        "\n",
        "for _, row in df.iterrows():\n",
        "    name = row['NAME']\n",
        "    roll_no = row['ROLL NUMBER']\n",
        "    email = row['EMAIL']\n",
        "\n",
        "    print(f\"Processing: {name} ({email})...\")\n",
        "    cert_path = generate_certificate(name, roll_no)\n",
        "    send_email(email, EMAIL_SUBJECT, EMAIL_BODY.format(name=name), cert_path)\n",
        "\n",
        "print(\"✅ All certificates sent successfully!\")"
      ]
    }
  ]
}